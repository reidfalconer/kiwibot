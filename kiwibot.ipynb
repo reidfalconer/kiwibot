{
 "cells": [
  {
   "cell_type": "markdown",
   "metadata": {},
   "source": [
    "# KIWIBOT \n",
    "## IMPOVING THE TRAVEL INDUSTRY ONE CHAT AT A TIME!\n",
    "\n",
    "![alt text](https://steemitimages.com/640x0/https://cdn.steemitimages.com/DQmZCZr4ewvhDsQJy63yKC8D8D8cLrKae1L1hEWDsTxPBaG/3q-500x500.png)\n",
    "\n",
    "This notebook is creates a chatbot for flight information website [KIWI](https://www.kiwi.com/en/)\n",
    "\n",
    "The notebook consists of three parts:\n",
    "*   Part 0: Installation and preparations\n",
    "*   Part 1: Needed files to create the bot\n",
    "*   Part 1: Start with a basic bot that can only understand natural language but no dialogues.\n",
    "*   Part 2: Add the abilitiy to understand multiturn dialogues.\n",
    "*   Part 3: Further resources so you can extend this simple demo."
   ]
  },
  {
   "cell_type": "markdown",
   "metadata": {},
   "source": [
    "## Part 0: Installation\n",
    "\n",
    "### Let's start with jupyter configuration"
   ]
  },
  {
   "cell_type": "code",
   "execution_count": 1,
   "metadata": {},
   "outputs": [
    {
     "name": "stdout",
     "output_type": "stream",
     "text": [
      "Requirement already satisfied: matplotlib in /Users/17867029/anaconda3/lib/python3.6/site-packages (3.0.2)\n",
      "Requirement already satisfied: numpy>=1.10.0 in /Users/17867029/anaconda3/lib/python3.6/site-packages (from matplotlib) (1.16.4)\n",
      "Requirement already satisfied: cycler>=0.10 in /Users/17867029/anaconda3/lib/python3.6/site-packages (from matplotlib) (0.10.0)\n",
      "Requirement already satisfied: kiwisolver>=1.0.1 in /Users/17867029/anaconda3/lib/python3.6/site-packages (from matplotlib) (1.0.1)\n",
      "Requirement already satisfied: pyparsing!=2.0.4,!=2.1.2,!=2.1.6,>=2.0.1 in /Users/17867029/anaconda3/lib/python3.6/site-packages (from matplotlib) (2.2.0)\n",
      "Requirement already satisfied: python-dateutil>=2.1 in /Users/17867029/anaconda3/lib/python3.6/site-packages (from matplotlib) (2.8.0)\n",
      "Requirement already satisfied: six in /Users/17867029/anaconda3/lib/python3.6/site-packages (from cycler>=0.10->matplotlib) (1.10.0)\n",
      "Requirement already satisfied: setuptools in /Users/17867029/anaconda3/lib/python3.6/site-packages (from kiwisolver>=1.0.1->matplotlib) (39.1.0)\n"
     ]
    }
   ],
   "source": [
    "!pip install matplotlib\n",
    "%matplotlib inline\n",
    "\n",
    "import logging, io, json, warnings\n",
    "logging.basicConfig(level=\"INFO\")\n",
    "warnings.filterwarnings('ignore')\n",
    "\n",
    "def pprint(o):\n",
    "    # small helper to make dict dumps a bit prettier\n",
    "    print(json.dumps(o, indent=2))"
   ]
  },
  {
   "cell_type": "markdown",
   "metadata": {},
   "source": [
    "### Installation of Rasa\n",
    "First you'll have to install Rasa in this notebook if you already have it installed in your env, you can just skip this. As dependencies, it will install Tensorflow and sklearn-crfsuite among others."
   ]
  },
  {
   "cell_type": "code",
   "execution_count": 2,
   "metadata": {
    "scrolled": false
   },
   "outputs": [],
   "source": [
    "#!pip install rasa"
   ]
  },
  {
   "cell_type": "markdown",
   "metadata": {},
   "source": [
    "### Part 1 Needed files\n",
    "The most important files are marked with a *.\n",
    "\n",
    "<style>\n",
    "td {\n",
    "  font-size: 50px\n",
    "}\n",
    "</style>\n",
    "\n",
    "| Filename  | Description |\n",
    "| --- | --- |\n",
    "| actions.py  | code for your custom actions  |\n",
    "| config.yml*  | configuration of your NLU and Core models  |\n",
    "| credentials.yml | details for connecting to other services\n",
    "| data/nlu.md* | your NLU training data\n",
    "| data/stories.md* | your stories |\n",
    "| domain.yml* | your assistant’s domain |\n",
    "| endpoints.yml\t| details for connecting to channels like fb messenger |\n"
   ]
  },
  {
   "cell_type": "code",
   "execution_count": 3,
   "metadata": {},
   "outputs": [
    {
     "name": "stdout",
     "output_type": "stream",
     "text": [
      "Writing 'nlu_md' (str) to file 'data/nlu.md'.\n"
     ]
    }
   ],
   "source": [
    "!mkdir data/\n",
    "nlu_md = \"\"\"\n",
    "\n",
    "## intent:flight\n",
    "- hey\n",
    "- hello\n",
    "- flight details\n",
    "- hey! I want latest flight schedule\n",
    "- can you provide me flight schedule\n",
    "- please provide latest flight info\n",
    "- is it possible to get latest flight information\n",
    "- flight schedule\n",
    "- flight information\n",
    "- flight info\n",
    "- hi \n",
    "- flight help \n",
    "- booking my flight \n",
    "\n",
    "\n",
    "## intent:inform\n",
    "- [MUC](location)\n",
    "- [CPT](location)\n",
    "- [BCN](location)\n",
    "- [BRU](location)\n",
    "- [BER](location)\n",
    "- [ATH](location)\n",
    "- [ROM](location)\n",
    "- [MIL](location)\n",
    "- [LIS](location)\n",
    "- [WAW](location)\n",
    "- [MAD](location)\n",
    "- [PAR](location)\n",
    "- [LON](location)\n",
    "\n",
    "- [09/06/2019](date)\n",
    "- I want for [09/06/2019](date)\n",
    "- I want to depart on the [09/06/2019](date)\n",
    "- I want the leave on the [09/06/2019](date)\n",
    "- I want to travel on [21/06/2019](date)\n",
    "- I would like to leave on [21/06/2019](date)\n",
    "\n",
    "## intent:affirmation\n",
    "- ok\n",
    "- perfect\n",
    "- lovely\n",
    "- great\n",
    "- yea\n",
    "- definitely\n",
    "- yah\n",
    "- yep\n",
    "- ya\n",
    "- sure\n",
    "- yes\n",
    "- yes please \n",
    "- YES\n",
    "\n",
    "## intent:deny\n",
    "- no\n",
    "- not yet\n",
    "- never\n",
    "- not now\n",
    "- negative \n",
    "- nope\n",
    "- no thank you\n",
    "- NO\n",
    "\n",
    "\"\"\"\n",
    "\n",
    "%store nlu_md > data/nlu.md"
   ]
  },
  {
   "cell_type": "code",
   "execution_count": 4,
   "metadata": {},
   "outputs": [
    {
     "name": "stdout",
     "output_type": "stream",
     "text": [
      "Writing 'config' (str) to file 'config.yml'.\n"
     ]
    }
   ],
   "source": [
    "config =\"\"\"\n",
    "# Configuration for Rasa NLU.\n",
    "# https://rasa.com/docs/rasa/nlu/components/\n",
    "language: en\n",
    "pipeline: supervised_embeddings\n",
    "\n",
    "# Configuration for Rasa Core.\n",
    "# https://rasa.com/docs/rasa/core/policies/\n",
    "policies:\n",
    "  - name: MemoizationPolicy\n",
    "  - name: KerasPolicy\n",
    "    epochs: 200\n",
    "  - name: MappingPolicy\n",
    "\"\"\"\n",
    "%store config > config.yml"
   ]
  },
  {
   "cell_type": "code",
   "execution_count": 5,
   "metadata": {},
   "outputs": [
    {
     "name": "stdout",
     "output_type": "stream",
     "text": [
      "\u001b[94mTraining NLU model...\u001b[0m\n",
      "2019-06-12 15:16:45 \u001b[1;30mINFO    \u001b[0m \u001b[34mrasa.nlu.training_data.loading\u001b[0m  - Training data format of /var/folders/l3/qm78fw951vg5gc3cd04wm8m80000gn/T/tmpv_soukf2/31a9e18cb0b348228626b30d3b32b8c2_nlu.md is md\n",
      "2019-06-12 15:16:45 \u001b[1;30mINFO    \u001b[0m \u001b[34mrasa.nlu.training_data.training_data\u001b[0m  - Training data stats: \n",
      "\t- intent examples: 53 (4 distinct intents)\n",
      "\t- Found intents: 'deny', 'flight', 'inform', 'affirmation'\n",
      "\t- entity examples: 19 (2 distinct entities)\n",
      "\t- found entities: 'location', 'date'\n",
      "\n",
      "2019-06-12 15:16:45 \u001b[1;30mINFO    \u001b[0m \u001b[34mrasa.nlu.model\u001b[0m  - Starting to train component WhitespaceTokenizer\n",
      "2019-06-12 15:16:45 \u001b[1;30mINFO    \u001b[0m \u001b[34mrasa.nlu.model\u001b[0m  - Finished training component.\n",
      "2019-06-12 15:16:45 \u001b[1;30mINFO    \u001b[0m \u001b[34mrasa.nlu.model\u001b[0m  - Starting to train component RegexFeaturizer\n",
      "2019-06-12 15:16:45 \u001b[1;30mINFO    \u001b[0m \u001b[34mrasa.nlu.model\u001b[0m  - Finished training component.\n",
      "2019-06-12 15:16:45 \u001b[1;30mINFO    \u001b[0m \u001b[34mrasa.nlu.model\u001b[0m  - Starting to train component CRFEntityExtractor\n",
      "2019-06-12 15:16:45 \u001b[1;30mINFO    \u001b[0m \u001b[34mrasa.nlu.model\u001b[0m  - Finished training component.\n",
      "2019-06-12 15:16:45 \u001b[1;30mINFO    \u001b[0m \u001b[34mrasa.nlu.model\u001b[0m  - Starting to train component EntitySynonymMapper\n",
      "2019-06-12 15:16:45 \u001b[1;30mINFO    \u001b[0m \u001b[34mrasa.nlu.model\u001b[0m  - Finished training component.\n",
      "2019-06-12 15:16:45 \u001b[1;30mINFO    \u001b[0m \u001b[34mrasa.nlu.model\u001b[0m  - Starting to train component CountVectorsFeaturizer\n",
      "2019-06-12 15:16:45 \u001b[1;30mINFO    \u001b[0m \u001b[34mrasa.nlu.model\u001b[0m  - Finished training component.\n",
      "2019-06-12 15:16:45 \u001b[1;30mINFO    \u001b[0m \u001b[34mrasa.nlu.model\u001b[0m  - Starting to train component EmbeddingIntentClassifier\n",
      "2019-06-12 15:16:47 \u001b[1;30mINFO    \u001b[0m \u001b[34mrasa.nlu.classifiers.embedding_intent_classifier\u001b[0m  - Accuracy is updated every 10 epochs\n",
      "Epochs: 100%|█████████| 300/300 [00:01<00:00, 103.05it/s, loss=0.078, acc=1.000]\n",
      "2019-06-12 15:16:49 \u001b[1;30mINFO    \u001b[0m \u001b[34mrasa.nlu.classifiers.embedding_intent_classifier\u001b[0m  - Finished training embedding classifier, loss=0.078, train accuracy=1.000\n",
      "2019-06-12 15:16:49 \u001b[1;30mINFO    \u001b[0m \u001b[34mrasa.nlu.model\u001b[0m  - Finished training component.\n",
      "2019-06-12 15:16:49 \u001b[1;30mINFO    \u001b[0m \u001b[34mrasa.nlu.model\u001b[0m  - Successfully saved model into '/var/folders/l3/qm78fw951vg5gc3cd04wm8m80000gn/T/tmp47a5xlo6/nlu'\n",
      "\u001b[94mNLU model training completed.\u001b[0m\n",
      "\u001b[92mYour Rasa model is trained and saved at '/Users/17867029/Desktop/kiwibot/models/nlu-20190612-151649.tar.gz'.\u001b[0m\n"
     ]
    }
   ],
   "source": [
    "!rasa train nlu"
   ]
  },
  {
   "cell_type": "code",
   "execution_count": 15,
   "metadata": {},
   "outputs": [
    {
     "name": "stdout",
     "output_type": "stream",
     "text": [
      "{\"intent\":{\"name\":\"flight\",\"confidence\":0.9602780342},\"entities\":[],\"intent_ranking\":[{\"name\":\"flight\",\"confidence\":0.9602780342},{\"name\":\"affirmation\",\"confidence\":0.0},{\"name\":\"inform\",\"confidence\":0.0},{\"name\":\"deny\",\"confidence\":0.0}],\"text\":\"flight\"}"
     ]
    }
   ],
   "source": [
    "#rasa run --enable-api -m models/nlu-20190612-151649.tar.gz\n",
    "!curl localhost:5005/model/parse -d '{\"text\":\"flight\"}'"
   ]
  },
  {
   "cell_type": "code",
   "execution_count": 16,
   "metadata": {},
   "outputs": [],
   "source": [
    "#!mkdir models/nlu\n",
    "#!tar -zxf models/nlu-20190611-184922.tar.gz --directory models/nlu\n",
    "#from rasa.nlu.model import Interpreter\n",
    "\n",
    "#interpreter = Interpreter.load('models/nlu/nlu')\n",
    "# Parse message to get result.\n",
    "#print(interpreter.parse(\"doing great\"))"
   ]
  },
  {
   "cell_type": "code",
   "execution_count": 17,
   "metadata": {},
   "outputs": [
    {
     "name": "stdout",
     "output_type": "stream",
     "text": [
      "2019-06-12 15:20:50 \u001b[1;30mINFO    \u001b[0m \u001b[34mrasa.nlu.training_data.loading\u001b[0m  - Training data format of /var/folders/l3/qm78fw951vg5gc3cd04wm8m80000gn/T/tmp1m56zjty/30e0c65e2a854f7d86fc1ed7ee5496f8_nlu.md is md\n",
      "2019-06-12 15:20:50 \u001b[1;30mINFO    \u001b[0m \u001b[34mrasa.nlu.training_data.training_data\u001b[0m  - Training data stats: \n",
      "\t- intent examples: 53 (4 distinct intents)\n",
      "\t- Found intents: 'affirmation', 'deny', 'flight', 'inform'\n",
      "\t- entity examples: 19 (2 distinct entities)\n",
      "\t- found entities: 'date', 'location'\n",
      "\n",
      "2019-06-12 15:20:50 \u001b[1;30mINFO    \u001b[0m \u001b[34mrasa.nlu.test\u001b[0m  - Running model for predictions:\n",
      "100%|██████████████████████████████████████████| 53/53 [00:00<00:00, 709.01it/s]\n",
      "2019-06-12 15:20:50 \u001b[1;30mINFO    \u001b[0m \u001b[34mrasa.nlu.test\u001b[0m  - Intent evaluation results:\n",
      "2019-06-12 15:20:50 \u001b[1;30mINFO    \u001b[0m \u001b[34mrasa.nlu.test\u001b[0m  - Intent Evaluation: Only considering those 53 examples that have a defined intent out of 53 examples\n",
      "2019-06-12 15:20:50 \u001b[1;30mINFO    \u001b[0m \u001b[34mrasa.nlu.test\u001b[0m  - F1-Score:  1.0\n",
      "2019-06-12 15:20:50 \u001b[1;30mINFO    \u001b[0m \u001b[34mrasa.nlu.test\u001b[0m  - Precision: 1.0\n",
      "2019-06-12 15:20:50 \u001b[1;30mINFO    \u001b[0m \u001b[34mrasa.nlu.test\u001b[0m  - Accuracy:  1.0\n",
      "2019-06-12 15:20:50 \u001b[1;30mINFO    \u001b[0m \u001b[34mrasa.nlu.test\u001b[0m  - Classification report: \n",
      "              precision    recall  f1-score   support\n",
      "\n",
      " affirmation       1.00      1.00      1.00        13\n",
      "        deny       1.00      1.00      1.00         8\n",
      "      flight       1.00      1.00      1.00        13\n",
      "      inform       1.00      1.00      1.00        19\n",
      "\n",
      "   micro avg       1.00      1.00      1.00        53\n",
      "   macro avg       1.00      1.00      1.00        53\n",
      "weighted avg       1.00      1.00      1.00        53\n",
      "\n",
      "2019-06-12 15:20:50 \u001b[1;30mINFO    \u001b[0m \u001b[34mrasa.nlu.test\u001b[0m  - Your model made no errors\n",
      "2019-06-12 15:20:50 \u001b[1;30mINFO    \u001b[0m \u001b[34mrasa.nlu.test\u001b[0m  - Confusion matrix, without normalization: \n",
      "[[13  0  0  0]\n",
      " [ 0  8  0  0]\n",
      " [ 0  0 13  0]\n",
      " [ 0  0  0 19]]\n",
      "Figure(2000x2000)\n",
      "Figure(1000x1000)\n",
      "2019-06-12 15:20:52 \u001b[1;30mINFO    \u001b[0m \u001b[34mrasa.nlu.test\u001b[0m  - Entity evaluation results:\n",
      "2019-06-12 15:20:52 \u001b[1;30mINFO    \u001b[0m \u001b[34mrasa.nlu.test\u001b[0m  - Evaluation for entity extractor: CRFEntityExtractor \n",
      "2019-06-12 15:20:52 \u001b[1;30mINFO    \u001b[0m \u001b[34mrasa.nlu.test\u001b[0m  - F1-Score:  1.0\n",
      "2019-06-12 15:20:52 \u001b[1;30mINFO    \u001b[0m \u001b[34mrasa.nlu.test\u001b[0m  - Precision: 1.0\n",
      "2019-06-12 15:20:52 \u001b[1;30mINFO    \u001b[0m \u001b[34mrasa.nlu.test\u001b[0m  - Accuracy:  1.0\n",
      "2019-06-12 15:20:52 \u001b[1;30mINFO    \u001b[0m \u001b[34mrasa.nlu.test\u001b[0m  - Classification report: \n",
      "              precision    recall  f1-score   support\n",
      "\n",
      "        date       1.00      1.00      1.00         6\n",
      "    location       1.00      1.00      1.00        13\n",
      "   no_entity       1.00      1.00      1.00        93\n",
      "\n",
      "   micro avg       1.00      1.00      1.00       112\n",
      "   macro avg       1.00      1.00      1.00       112\n",
      "weighted avg       1.00      1.00      1.00       112\n",
      "\n"
     ]
    }
   ],
   "source": [
    "!rasa test nlu"
   ]
  },
  {
   "cell_type": "markdown",
   "metadata": {},
   "source": [
    "# Part 2: Adding dialogue capabilities\n",
    "### Writing Stories"
   ]
  },
  {
   "cell_type": "code",
   "execution_count": 18,
   "metadata": {},
   "outputs": [
    {
     "name": "stdout",
     "output_type": "stream",
     "text": [
      "Writing 'stories_md' (str) to file 'data/stories.md'.\n"
     ]
    }
   ],
   "source": [
    "stories_md = \"\"\"\n",
    "## fallback\n",
    "- utter_unclear\n",
    "\n",
    "## Story 1\n",
    "* flight\n",
    "    - utter_boarding\n",
    "* inform{\"location\": \"BCN\"}\n",
    "    - action_save_origin\n",
    "    - slot{\"from\": \"BCN\"}\n",
    "    - utter_destination\n",
    "* inform{\"location\": \"MUC\"}\n",
    "    - action_save_destination\n",
    "    - slot{\"to\": \"MUC\"}\n",
    "    - utter_date\n",
    "* inform{\"date\": \"20/06/2019\"}\n",
    "    - action_save_date\n",
    "    - slot{\"date\": \"20/06/2019\"}\n",
    "    - utter_confirm\n",
    "* affirmation\n",
    "    - action_get_flight\n",
    "    - utter_check_another_one\n",
    "* deny\n",
    "    - utter_thanks\n",
    "    - action_restart\n",
    "\n",
    "## Stry 2-multiple steps\n",
    "* flight\n",
    "    - utter_boarding\n",
    "* inform{\"location\": \"CPT\"}\n",
    "    - action_save_origin\n",
    "    - slot{\"from\": \"CPT\"}\n",
    "    - utter_destination\n",
    "* inform{\"location\": \"BCN\"}\n",
    "    - action_save_destination\n",
    "    - slot{\"to\": \"BCN\"}\n",
    "    - utter_date\n",
    "* inform{\"date\": \"03/07/2019\"}\n",
    "    - slot{\"date\": \"03/07/2019\"}\n",
    "    - action_save_date\n",
    "    - slot{\"date\": \"03/07/2019\"}\n",
    "    - utter_confirm\n",
    "* affirmation\n",
    "    - action_get_flight\n",
    "    - utter_check_another_one\n",
    "* affirmation\n",
    "    - action_slot_reset\n",
    "    - reset_slots\n",
    "    - utter_boarding\n",
    "* inform{\"location\": \"BCN\"}\n",
    "    - action_save_origin\n",
    "    - slot{\"from\": \"BCN\"}\n",
    "    - utter_destination\n",
    "* inform{\"location\": \"MUC\"}\n",
    "    - action_save_destination\n",
    "    - slot{\"to\": \"MUC\"}\n",
    "    - utter_date\n",
    "* inform{\"date\": \"10/07/2019\"}\n",
    "    - slot{\"date\": \"10/07/2019\"}\n",
    "    - action_save_date\n",
    "    - slot{\"date\": \"10/07/2019\"}\n",
    "    - utter_confirm\n",
    "* affirmation\n",
    "    - action_get_flight\n",
    "    - utter_check_another_one\n",
    "* deny\n",
    "    - utter_thanks\n",
    "    - action_restart\n",
    "\n",
    "\"\"\"\n",
    "\n",
    "%store stories_md > data/stories.md"
   ]
  },
  {
   "cell_type": "markdown",
   "metadata": {},
   "source": [
    "### Defining a Domain\n",
    "\n",
    "The domain specifies the universe that your bot lives in. You should list all of the intents and actions that show up in your stories. \n",
    "This is also the place to write templates, which contain the messages your bot can send back"
   ]
  },
  {
   "cell_type": "code",
   "execution_count": 19,
   "metadata": {},
   "outputs": [
    {
     "name": "stdout",
     "output_type": "stream",
     "text": [
      "Writing 'domain_yml' (str) to file 'domain.yml'.\n"
     ]
    }
   ],
   "source": [
    "domain_yml = \"\"\"\n",
    "\n",
    "actions:\n",
    "- utter_boarding\n",
    "- utter_destination\n",
    "- utter_date\n",
    "- utter_confirm\n",
    "- utter_check_another_one\n",
    "- utter_thanks\n",
    "- utter_unclear\n",
    "- action_save_origin\n",
    "- action_save_destination\n",
    "- action_save_date\n",
    "- action_get_flight\n",
    "- action_slot_reset\n",
    "\n",
    "config:\n",
    "  store_entities_as_slots: true\n",
    "entities:\n",
    "- location\n",
    "- date\n",
    "intents:\n",
    "- ticket:\n",
    "    use_entities: true\n",
    "- inform:\n",
    "    use_entities: true\n",
    "- affirmation:\n",
    "    use_entities: true\n",
    "- deny:\n",
    "    use_entities: true\n",
    "\n",
    "slots:\n",
    "  date:\n",
    "    initial_value: null\n",
    "    type: rasa.core.slots.TextSlot\n",
    "  from:\n",
    "    initial_value: null\n",
    "    type: rasa.core.slots.TextSlot\n",
    "  to:\n",
    "    initial_value: null\n",
    "    type: rasa.core.slots.TextSlot\n",
    "\n",
    "templates:\n",
    "  utter_boarding:\n",
    "  - text: We'll help you find the latest flight schedule. First, please provide your\n",
    "      origin airport code?\n",
    "  utter_check_another_one:\n",
    "  - text: Do you want to make another inquiry?\n",
    "  utter_confirm:\n",
    "  - text: I will be making inquiry for flight from {from} to {to} on {date}. Is that\n",
    "      correct?\n",
    "  utter_date:\n",
    "  - text: What is the date for your travel(in dd/mm/yyyy)?\n",
    "  utter_destination:\n",
    "  - text: And the destination airport code?\n",
    "  utter_thanks:\n",
    "  - text: Thanks for contacting us. Have a good day!\n",
    "  utter_unclear:\n",
    "  - text: I am not sure what you are aiming for.Kindly try it again\n",
    "\"\"\"\n",
    "\n",
    "%store domain_yml > domain.yml"
   ]
  },
  {
   "cell_type": "markdown",
   "metadata": {},
   "source": [
    "### Adding Custom API methods"
   ]
  },
  {
   "cell_type": "code",
   "execution_count": 20,
   "metadata": {},
   "outputs": [
    {
     "name": "stdout",
     "output_type": "stream",
     "text": [
      "Writing 'actions' (str) to file 'actions.py'.\n",
      "Writing 'endpoints' (str) to file 'endpoints.yml'.\n"
     ]
    }
   ],
   "source": [
    "actions= \"\"\"\n",
    "\n",
    "from __future__ import absolute_import\n",
    "from __future__ import division\n",
    "from __future__ import unicode_literals\n",
    "\n",
    "from rasa.core.domain import Domain\n",
    "from rasa.core.trackers import EventVerbosity\n",
    "\n",
    "import logging\n",
    "logger = logging.getLogger(__name__)\n",
    "\n",
    "import requests\n",
    "import json\n",
    "\n",
    "from rasa_core_sdk import Action\n",
    "from rasa_core_sdk.events import SlotSet\n",
    "from rasa_core_sdk.events import UserUtteranceReverted\n",
    "from rasa_core_sdk.events import AllSlotsReset\n",
    "from rasa_core_sdk.events import Restarted\n",
    "\n",
    "from bs4 import BeautifulSoup\n",
    "import urllib.request\n",
    "import re\n",
    "import requests\n",
    "\n",
    "class SaveOrigin(Action):\n",
    "    def name(self):\n",
    "        return 'action_save_origin'\n",
    "\n",
    "    def run(self, dispatcher, tracker, domain):\n",
    "        orig = next(tracker.get_latest_entity_values(\"location\"), None)\n",
    "        if not orig:\n",
    "            dispatcher.utter_message(\"Please enter a valid airport code\")\n",
    "            return [UserUtteranceReverted()]\n",
    "        return [SlotSet('from',orig)]\n",
    "    \n",
    "class SaveDestination(Action):\n",
    "    def name(self):\n",
    "        return 'action_save_destination'\n",
    "\n",
    "    def run(self, dispatcher, tracker, domain):\n",
    "        dest = next(tracker.get_latest_entity_values(\"location\"), None)\n",
    "        if not dest:\n",
    "            dispatcher.utter_message(\"Please enter a valid airport code\")\n",
    "            return [UserUtteranceReverted()]\n",
    "        return [SlotSet('to',dest)]\n",
    "\n",
    "class SaveDate(Action):\n",
    "    def name(self):\n",
    "        return 'action_save_date'\n",
    "\n",
    "    def run(self, dispatcher, tracker, domain):\n",
    "        inp = next(tracker.get_latest_entity_values(\"date\"), None)\n",
    "        if not inp:\n",
    "            dispatcher.utter_message(\"Please enter a valid date\")\n",
    "            return [UserUtteranceReverted()]\n",
    "        return [SlotSet('date',inp)]\n",
    "\n",
    "class ActionSlotReset(Action): \t\n",
    "    def name(self): \n",
    "        return 'action_slot_reset' \t\n",
    "    def run(self, dispatcher, tracker, domain): \n",
    "        return[AllSlotsReset()]\n",
    "\n",
    "class getFlightStatus(Action):\n",
    "    def name(self):\n",
    "        return 'action_get_flight'\n",
    "    def run(self, dispatcher, tracker, domain):\n",
    "        orig=tracker.get_slot('from')\n",
    "        dest=tracker.get_slot('to')\n",
    "        dat=tracker.get_slot('date')\n",
    "        dispatcher.utter_message(\"Here is the link to your flight booking\")\n",
    "        urls = (\"https://api.skypicker.com/flights?\"+\n",
    "                       \"flyFrom=\" + orig +\n",
    "                       \"&to=\"+ dest +\n",
    "                       \"&dateFrom=\" + dat + \n",
    "                       \"&partner=picky\") \n",
    "        response = requests.get(urls)\n",
    "        data = response.text\n",
    "        parsed = json.loads(data) \n",
    "        class Test(object):\n",
    "            def __init__(self, data):\n",
    "                self.__dict__ = json.loads(data)\n",
    "        flight_data = Test(data)\n",
    "        flight_data = flight_data.data[1]['deep_link']\n",
    "        dispatcher.utter_message(flight_data)\n",
    "        return []\n",
    "\"\"\"\n",
    "\n",
    "%store actions > actions.py\n",
    "\n",
    "endpoints = \"\"\"\n",
    "action_endpoint:\n",
    "  url: http://localhost:5055/webhook\n",
    "\"\"\"\n",
    "%store endpoints > endpoints.yml"
   ]
  },
  {
   "cell_type": "markdown",
   "metadata": {},
   "source": [
    "## Training your Dialogue Model"
   ]
  },
  {
   "cell_type": "code",
   "execution_count": 21,
   "metadata": {},
   "outputs": [
    {
     "name": "stdout",
     "output_type": "stream",
     "text": [
      "\u001b[92mNothing changed. You can use the old model stored at '/Users/17867029/Desktop/kiwibot/models/20190612-151848.tar.gz'.\u001b[0m\r\n"
     ]
    }
   ],
   "source": [
    "!rasa train"
   ]
  },
  {
   "cell_type": "markdown",
   "metadata": {},
   "source": [
    "### Pro Tip: Visualising the Training Data\n",
    "\n",
    "You can visualise the stories to get a sense of how the conversations go. This is usually a good way to see if there are any stories which don't make sense\n"
   ]
  },
  {
   "cell_type": "code",
   "execution_count": 22,
   "metadata": {},
   "outputs": [
    {
     "name": "stdout",
     "output_type": "stream",
     "text": [
      "2019-06-12 15:21:00 \u001b[1;30mINFO    \u001b[0m \u001b[34mrasa.nlu.training_data.loading\u001b[0m  - Training data format of /var/folders/l3/qm78fw951vg5gc3cd04wm8m80000gn/T/tmp2lhjyzne/f18f1048bb814bfdb6782ff3bd4a815c_nlu.md is md\n",
      "2019-06-12 15:21:00 \u001b[1;30mINFO    \u001b[0m \u001b[34mrasa.nlu.training_data.training_data\u001b[0m  - Training data stats: \n",
      "\t- intent examples: 53 (4 distinct intents)\n",
      "\t- Found intents: 'affirmation', 'flight', 'deny', 'inform'\n",
      "\t- entity examples: 19 (2 distinct entities)\n",
      "\t- found entities: 'location', 'date'\n",
      "\n",
      "2019-06-12 15:21:00 \u001b[1;30mINFO    \u001b[0m \u001b[34mrasa.core.visualize\u001b[0m  - Starting to visualize stories...\n",
      "2019-06-12 15:21:00 \u001b[1;30mWARNING \u001b[0m \u001b[34mrasa.core.training.dsl\u001b[0m  - \u001b[33mFound unknown intent 'flight' on line 6. Please, make sure that all intents are listed in your domain yaml.\u001b[0m\n",
      "2019-06-12 15:21:00 \u001b[1;30mWARNING \u001b[0m \u001b[34mrasa.core.training.dsl\u001b[0m  - \u001b[33mFound unknown intent 'flight' on line 28. Please, make sure that all intents are listed in your domain yaml.\u001b[0m\n",
      "Processed Story Blocks: 100%|█████| 3/3 [00:00<00:00, 1696.95it/s, # trackers=1]\n",
      "2019-06-12 15:21:00 \u001b[1;30mINFO    \u001b[0m \u001b[34mrasa.core.visualize\u001b[0m  - Finished graph creation. Saved into file:///Users/17867029/Desktop/kiwibot/graph.html\n"
     ]
    }
   ],
   "source": [
    "#you may need any of these to be able to display the conversations graph\n",
    "#!apt-get -qq install -y graphviz libgraphviz-dev pkg-config;\n",
    "#!brew install graphviz;\n",
    "!rasa visualize"
   ]
  },
  {
   "cell_type": "markdown",
   "metadata": {},
   "source": [
    "## Testing the bot\n",
    "First run the actions endpoint server and then run \"rasa shell\" in the terminal.\n"
   ]
  },
  {
   "cell_type": "code",
   "execution_count": 23,
   "metadata": {},
   "outputs": [],
   "source": [
    "%%script bash --bg \n",
    "rasa run actions"
   ]
  },
  {
   "cell_type": "code",
   "execution_count": 268,
   "metadata": {},
   "outputs": [],
   "source": [
    "#this must run in the reminal\n",
    "#!rasa shell"
   ]
  },
  {
   "cell_type": "code",
   "execution_count": 269,
   "metadata": {},
   "outputs": [
    {
     "name": "stdout",
     "output_type": "stream",
     "text": [
      "All background processes were killed.\n"
     ]
    }
   ],
   "source": [
    "#When its finished, we can stop all background scripts with\n",
    "%killbgscripts"
   ]
  },
  {
   "cell_type": "markdown",
   "metadata": {},
   "source": [
    "# END"
   ]
  }
 ],
 "metadata": {
  "kernelspec": {
   "display_name": "Python 3",
   "language": "python",
   "name": "python3"
  },
  "language_info": {
   "codemirror_mode": {
    "name": "ipython",
    "version": 3
   },
   "file_extension": ".py",
   "mimetype": "text/x-python",
   "name": "python",
   "nbconvert_exporter": "python",
   "pygments_lexer": "ipython3",
   "version": "3.6.7"
  },
  "toc": {
   "base_numbering": 1,
   "nav_menu": {},
   "number_sections": false,
   "sideBar": true,
   "skip_h1_title": false,
   "title_cell": "Table of Contents",
   "title_sidebar": "Contents",
   "toc_cell": false,
   "toc_position": {
    "height": "calc(100% - 180px)",
    "left": "10px",
    "top": "150px",
    "width": "442.667px"
   },
   "toc_section_display": true,
   "toc_window_display": true
  },
  "varInspector": {
   "cols": {
    "lenName": 16,
    "lenType": 16,
    "lenVar": 40
   },
   "kernels_config": {
    "python": {
     "delete_cmd_postfix": "",
     "delete_cmd_prefix": "del ",
     "library": "var_list.py",
     "varRefreshCmd": "print(var_dic_list())"
    },
    "r": {
     "delete_cmd_postfix": ") ",
     "delete_cmd_prefix": "rm(",
     "library": "var_list.r",
     "varRefreshCmd": "cat(var_dic_list()) "
    }
   },
   "types_to_exclude": [
    "module",
    "function",
    "builtin_function_or_method",
    "instance",
    "_Feature"
   ],
   "window_display": false
  }
 },
 "nbformat": 4,
 "nbformat_minor": 2
}
